{
 "cells": [
  {
   "cell_type": "code",
   "execution_count": 3,
   "metadata": {},
   "outputs": [
    {
     "name": "stdout",
     "output_type": "stream",
     "text": [
      "Audio saved as output.mp3\n"
     ]
    }
   ],
   "source": [
    "import os\n",
    "import requests\n",
    "from dotenv import load_dotenv\n",
    "from pyht import Client\n",
    "from pyht.client import TTSOptions\n",
    "\n",
    "# Load environment variables\n",
    "load_dotenv()\n",
    "\n",
    "# Retrieve PlayHT credentials from .env\n",
    "USER_ID = os.getenv(\"PLAY_HT_USER_ID\")\n",
    "API_KEY = os.getenv(\"PLAY_HT_API_KEY\")\n",
    "\n",
    "# Initialize PlayHT client\n",
    "client = Client(user_id=USER_ID, api_key=API_KEY)\n",
    "\n",
    "# Function to stream audio and save to file\n",
    "def stream_audio(text):\n",
    "    try:\n",
    "        # Set the TTS options (change this to your desired voice)\n",
    "        options = TTSOptions(voice=\"s3://voice-cloning-zero-shot/775ae416-49bb-4fb6-bd45-740f205d20a1/jennifersaad/manifest.json\")\n",
    "        \n",
    "        # Open file for saving the audio\n",
    "        with open(\"output.mp3\", \"wb\") as audio_file:\n",
    "            # Stream the audio\n",
    "            for chunk in client.tts(text, options, voice_engine=\"PlayDialog\", protocol=\"http\"):\n",
    "                audio_file.write(chunk)  # Append each chunk to the file\n",
    "        \n",
    "        print(\"Audio saved as output.mp3\")\n",
    "    \n",
    "    except Exception as e:\n",
    "        print(f\"Error occurred: {str(e)}\")\n",
    "\n",
    "# Example text\n",
    "text = \"\"\"Congratulations on joining SecurityPro Group! As a leading provider of security solutions and an ADT authorized dealer, we take pride in offering our customers the best in home and business security. \n",
    "But just as importantly, we invest in our team, because you are the foundation of our success. \n",
    "This course will provide you with comprehensive training to ensure you master security system design, sales techniques, and customer service best practices. \n",
    "Our mentorship programs pair you with experienced professionals to help you succeed from day one. Ongoing coaching and support keep you at the top of your game in a competitive market. \n",
    "We offer top commission and volume bonuses, putting your earnings potential in the palm of your hand. With our strong multi channel marketing, you’ll always have opportunities to earn big commissions. \n",
    "As an ADT authorized dealer we offer customers the latest in A. D. Tee smart home security, including: Remote control of their security system from a smartphone anywhere they have signal. \n",
    "Add ons include smart locks, cameras, thermostats and home automation. All with 24 7 professional monitoring. With our immersive training you will stay ahead of the curve in the fast-growing home security industry. \n",
    "You’ve joined a supportive and motivated team that pushes each other to succeed. Our culture is built on integrity, professionalism, and teamwork. We win together. Keep in mind, you’re not just selling a product, you are protecting families, businesses, and communities. \n",
    "Every installation you sell, provides peace of mind to customers. Your work makes homes safer and helps businesses reduce risks. \n",
    "​You are your own boss at SecurityPro. You set your own flexible work schedule that allows for work-life balance. \n",
    "We’ll teach you various ways to go to market, some of which don’t require you to leave the house. \n",
    "You will have the freedom to work independently while still having the full backing of a strong company. \n",
    "Your journey at SecurityPro Group is just beginning. With the right attitude, dedication, and training, you can build a rewarding career while making a real difference. Welcome to the team! Now, let’s protect what matters most and grow together!\"\"\"\n",
    "\n",
    "# Call the function to stream audio\n",
    "stream_audio(text)"
   ]
  }
 ],
 "metadata": {
  "kernelspec": {
   "display_name": "Python 3",
   "language": "python",
   "name": "python3"
  },
  "language_info": {
   "codemirror_mode": {
    "name": "ipython",
    "version": 3
   },
   "file_extension": ".py",
   "mimetype": "text/x-python",
   "name": "python",
   "nbconvert_exporter": "python",
   "pygments_lexer": "ipython3",
   "version": "3.11.4"
  }
 },
 "nbformat": 4,
 "nbformat_minor": 2
}
